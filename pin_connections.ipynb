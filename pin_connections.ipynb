{
 "cells": [
  {
   "cell_type": "code",
   "execution_count": 3,
   "metadata": {},
   "outputs": [
    {
     "data": {
      "text/plain": [
       "[(None, 7),\n",
       " (None, 9),\n",
       " (None, 11),\n",
       " ('HD12', 13),\n",
       " ('HD13', 15),\n",
       " ('HD14', 17),\n",
       " ('HD15', 19),\n",
       " (None, 21),\n",
       " ('HD16', 23),\n",
       " ('HD17', 25),\n",
       " ('HD18', 27),\n",
       " ('HD19', 29),\n",
       " (None, 31),\n",
       " ('HD20', 33),\n",
       " ('HD21', 35),\n",
       " ('HD22', 37),\n",
       " ('HD23', 39),\n",
       " (None, 41),\n",
       " ('HD24', 43),\n",
       " ('HD25', 45),\n",
       " ('HD26', 47),\n",
       " ('HD27', 49),\n",
       " (None, 51),\n",
       " ('HD28', 53),\n",
       " ('HD29', 55),\n",
       " ('HD30', 57),\n",
       " ('HD31', 59)]"
      ]
     },
     "execution_count": 3,
     "metadata": {},
     "output_type": "execute_result"
    }
   ],
   "source": [
    "GND = None\n",
    "left_row  = list(range(7, 60, 2))\n",
    "right_row = list(range(8, 61, 2))\n",
    "btb_upper = [None, None, GND, \"HD12\", \"HD13\", \"HD14\", \"HD15\", GND, \"HD16\", \"HD17\", \"HD18\", \"HD19\", GND, \"HD20\", \"HD21\", \"HD22\", \"HD23\", GND, \"HD24\", \"HD25\", \"HD26\", \"HD27\", GND, \"HD28\", \"HD29\", \"HD30\", \"HD31\" ]\n",
    "btb_lower = [\"HD10\", \"HD11\", GND, \"HRCLK\", \"HRACK\", \"HRVLD\", \"HTRDY\", GND, \"HD0\", \"HD1\", \"HD2\", \"HD3\", GND, \"HD4\", \"HD5\", \"HD6\", \"HD7\", GND, \"HD8\", \"HD9\", \"HTVLD\", \"HTREQ\", GND, \"HTACK\", \"HTCLK\"]\n",
    "left = list(zip(btb_upper, left_row))\n",
    "right = list(zip(btb_lower, right_row))"
   ]
  }
 ],
 "metadata": {
  "interpreter": {
   "hash": "31f2aee4e71d21fbe5cf8b01ff0e069b9275f58929596ceb00d14d90e3e16cd6"
  },
  "kernelspec": {
   "display_name": "Python 3.8.10 64-bit",
   "language": "python",
   "name": "python3"
  },
  "language_info": {
   "codemirror_mode": {
    "name": "ipython",
    "version": 3
   },
   "file_extension": ".py",
   "mimetype": "text/x-python",
   "name": "python",
   "nbconvert_exporter": "python",
   "pygments_lexer": "ipython3",
   "version": "3.8.10"
  },
  "orig_nbformat": 4
 },
 "nbformat": 4,
 "nbformat_minor": 2
}
